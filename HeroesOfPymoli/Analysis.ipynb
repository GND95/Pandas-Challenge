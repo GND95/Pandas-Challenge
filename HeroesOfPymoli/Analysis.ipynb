{
 "cells": [
  {
   "cell_type": "code",
   "execution_count": 149,
   "metadata": {},
   "outputs": [],
   "source": [
    "import pandas as pd\n",
    "sourceCSV = \"Resources/purchase_data.csv\"\n",
    "purchaseData_df = pd.read_csv(sourceCSV)"
   ]
  },
  {
   "cell_type": "code",
   "execution_count": 150,
   "metadata": {},
   "outputs": [
    {
     "data": {
      "text/html": [
       "<div>\n",
       "<style scoped>\n",
       "    .dataframe tbody tr th:only-of-type {\n",
       "        vertical-align: middle;\n",
       "    }\n",
       "\n",
       "    .dataframe tbody tr th {\n",
       "        vertical-align: top;\n",
       "    }\n",
       "\n",
       "    .dataframe thead th {\n",
       "        text-align: right;\n",
       "    }\n",
       "</style>\n",
       "<table border=\"1\" class=\"dataframe\">\n",
       "  <thead>\n",
       "    <tr style=\"text-align: right;\">\n",
       "      <th></th>\n",
       "      <th>Total Players</th>\n",
       "    </tr>\n",
       "  </thead>\n",
       "  <tbody>\n",
       "    <tr>\n",
       "      <th>0</th>\n",
       "      <td>576</td>\n",
       "    </tr>\n",
       "  </tbody>\n",
       "</table>\n",
       "</div>"
      ],
      "text/plain": [
       "   Total Players\n",
       "0            576"
      ]
     },
     "execution_count": 150,
     "metadata": {},
     "output_type": "execute_result"
    }
   ],
   "source": [
    "playerCount = len(purchaseData_df[\"SN\"].unique()) #counting the number of unique values from this column inside the data frame\n",
    "playerCount_df = pd.DataFrame([playerCount], columns=[\"Total Players\"]) #creating new data frame for displaying count of total unique players\n",
    "playerCount_df"
   ]
  },
  {
   "cell_type": "code",
   "execution_count": 152,
   "metadata": {},
   "outputs": [
    {
     "data": {
      "text/html": [
       "<div>\n",
       "<style scoped>\n",
       "    .dataframe tbody tr th:only-of-type {\n",
       "        vertical-align: middle;\n",
       "    }\n",
       "\n",
       "    .dataframe tbody tr th {\n",
       "        vertical-align: top;\n",
       "    }\n",
       "\n",
       "    .dataframe thead th {\n",
       "        text-align: right;\n",
       "    }\n",
       "</style>\n",
       "<table border=\"1\" class=\"dataframe\">\n",
       "  <thead>\n",
       "    <tr style=\"text-align: right;\">\n",
       "      <th></th>\n",
       "      <th>Unique Items</th>\n",
       "      <th>Average Price</th>\n",
       "      <th>Number of Purchases</th>\n",
       "      <th>Total Revenue</th>\n",
       "    </tr>\n",
       "  </thead>\n",
       "  <tbody>\n",
       "    <tr>\n",
       "      <th>0</th>\n",
       "      <td>179</td>\n",
       "      <td>$3.05</td>\n",
       "      <td>780</td>\n",
       "      <td>$2,379.77</td>\n",
       "    </tr>\n",
       "  </tbody>\n",
       "</table>\n",
       "</div>"
      ],
      "text/plain": [
       "   Unique Items Average Price  Number of Purchases Total Revenue\n",
       "0           179         $3.05                  780     $2,379.77"
      ]
     },
     "execution_count": 152,
     "metadata": {},
     "output_type": "execute_result"
    }
   ],
   "source": [
    "uniqueItemsCount = len(purchaseData_df[\"Item Name\"].unique()) #getting the number of unique items\n",
    "purchaseCount = len(purchaseData_df[\"Price\"]) #getting the length of the Price column to add up the number of sales\n",
    "totalRevenue = sum(purchaseData_df[\"Price\"]) #adding together the contents of the Price column to get the total revenue\n",
    "avgPrice = totalRevenue / purchaseCount #dividing the total revenue by the number of sales to get the average price per sale\n",
    "\n",
    "totalPurchaseAnalysis_df = pd.DataFrame(#adding column names and values to the data frame as a dictionary of lists \n",
    "    {\n",
    "    \"Unique Items\": [uniqueItemsCount],\n",
    "    \"Average Price\": [avgPrice],\n",
    "    \"Number of Purchases\": [purchaseCount],\n",
    "    \"Total Revenue\": [totalRevenue]\n",
    "    }\n",
    ")\n",
    "totalPurchaseAnalysis_df[\"Average Price\"] = totalPurchaseAnalysis_df[\"Average Price\"].astype(float).map(\"${:,.2f}\".format) #formatting to have a dollar sign\n",
    "totalPurchaseAnalysis_df[\"Total Revenue\"] = totalPurchaseAnalysis_df[\"Total Revenue\"].astype(float).map(\"${:,.2f}\".format) #in front and be two decimal places\n",
    "totalPurchaseAnalysis_df"
   ]
  },
  {
   "cell_type": "code",
   "execution_count": null,
   "metadata": {},
   "outputs": [],
   "source": []
  }
 ],
 "metadata": {
  "kernelspec": {
   "display_name": "Python 3",
   "language": "python",
   "name": "python3"
  },
  "language_info": {
   "codemirror_mode": {
    "name": "ipython",
    "version": 3
   },
   "file_extension": ".py",
   "mimetype": "text/x-python",
   "name": "python",
   "nbconvert_exporter": "python",
   "pygments_lexer": "ipython3",
   "version": "3.8.3"
  }
 },
 "nbformat": 4,
 "nbformat_minor": 4
}
