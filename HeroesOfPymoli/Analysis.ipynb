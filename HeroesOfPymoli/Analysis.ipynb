{
 "cells": [
  {
   "cell_type": "code",
   "execution_count": 312,
   "metadata": {},
   "outputs": [],
   "source": [
    "import pandas as pd\n",
    "sourceCSV = \"Resources/purchase_data.csv\"\n",
    "purchaseData_df = pd.read_csv(sourceCSV)"
   ]
  },
  {
   "cell_type": "code",
   "execution_count": 313,
   "metadata": {},
   "outputs": [
    {
     "data": {
      "text/html": [
       "<style  type=\"text/css\" >\n",
       "</style><table id=\"T_ed8c6c68_32c8_11eb_85fd_3448edab3ca1\" ><thead>    <tr>        <th class=\"col_heading level0 col0\" >Total Players</th>    </tr></thead><tbody>\n",
       "                <tr>\n",
       "                                <td id=\"T_ed8c6c68_32c8_11eb_85fd_3448edab3ca1row0_col0\" class=\"data row0 col0\" >576</td>\n",
       "            </tr>\n",
       "    </tbody></table>"
      ],
      "text/plain": [
       "<pandas.io.formats.style.Styler at 0x24f05b62d00>"
      ]
     },
     "execution_count": 313,
     "metadata": {},
     "output_type": "execute_result"
    }
   ],
   "source": [
    "playerCount = len(purchaseData_df[\"SN\"].unique()) #counting the number of unique values from this column inside the data frame\n",
    "playerCount_df = pd.DataFrame([playerCount], columns=[\"Total Players\"]) #creating new data frame for displaying count of total unique players\n",
    "playerCount_df.style.hide_index()"
   ]
  },
  {
   "cell_type": "code",
   "execution_count": 314,
   "metadata": {},
   "outputs": [
    {
     "data": {
      "text/html": [
       "<style  type=\"text/css\" >\n",
       "</style><table id=\"T_ed8fc488_32c8_11eb_8f68_3448edab3ca1\" ><thead>    <tr>        <th class=\"col_heading level0 col0\" >Unique Items</th>        <th class=\"col_heading level0 col1\" >Average Price</th>        <th class=\"col_heading level0 col2\" >Number of Purchases</th>        <th class=\"col_heading level0 col3\" >Total Revenue</th>    </tr></thead><tbody>\n",
       "                <tr>\n",
       "                                <td id=\"T_ed8fc488_32c8_11eb_8f68_3448edab3ca1row0_col0\" class=\"data row0 col0\" >179</td>\n",
       "                        <td id=\"T_ed8fc488_32c8_11eb_8f68_3448edab3ca1row0_col1\" class=\"data row0 col1\" >$3.05</td>\n",
       "                        <td id=\"T_ed8fc488_32c8_11eb_8f68_3448edab3ca1row0_col2\" class=\"data row0 col2\" >780</td>\n",
       "                        <td id=\"T_ed8fc488_32c8_11eb_8f68_3448edab3ca1row0_col3\" class=\"data row0 col3\" >$2,379.77</td>\n",
       "            </tr>\n",
       "    </tbody></table>"
      ],
      "text/plain": [
       "<pandas.io.formats.style.Styler at 0x24f06bb01f0>"
      ]
     },
     "execution_count": 314,
     "metadata": {},
     "output_type": "execute_result"
    }
   ],
   "source": [
    "uniqueItemsCount = len(purchaseData_df[\"Item Name\"].unique()) #getting the number of unique items\n",
    "purchaseCount = len(purchaseData_df[\"Price\"]) #getting the length of the Price column to add up the number of sales\n",
    "totalRevenue = sum(purchaseData_df[\"Price\"]) #adding together the contents of the Price column to get the total revenue\n",
    "avgPrice = totalRevenue / purchaseCount #dividing the total revenue by the number of sales to get the average price per sale\n",
    "\n",
    "totalPurchaseAnalysis_df = pd.DataFrame(#adding column names and values to the data frame as a dictionary of lists \n",
    "    {\n",
    "    \"Unique Items\": [uniqueItemsCount],\n",
    "    \"Average Price\": [avgPrice],\n",
    "    \"Number of Purchases\": [purchaseCount],\n",
    "    \"Total Revenue\": [totalRevenue]\n",
    "    }\n",
    ")\n",
    "totalPurchaseAnalysis_df[\"Average Price\"] = totalPurchaseAnalysis_df[\"Average Price\"].astype(float).map(\"${:,.2f}\".format) #formatting to have a dollar sign\n",
    "totalPurchaseAnalysis_df[\"Total Revenue\"] = totalPurchaseAnalysis_df[\"Total Revenue\"].astype(float).map(\"${:,.2f}\".format) #in front and be two decimal places\n",
    "totalPurchaseAnalysis_df.style.hide_index()"
   ]
  },
  {
   "cell_type": "code",
   "execution_count": 315,
   "metadata": {},
   "outputs": [
    {
     "data": {
      "text/html": [
       "<div>\n",
       "<style scoped>\n",
       "    .dataframe tbody tr th:only-of-type {\n",
       "        vertical-align: middle;\n",
       "    }\n",
       "\n",
       "    .dataframe tbody tr th {\n",
       "        vertical-align: top;\n",
       "    }\n",
       "\n",
       "    .dataframe thead th {\n",
       "        text-align: right;\n",
       "    }\n",
       "</style>\n",
       "<table border=\"1\" class=\"dataframe\">\n",
       "  <thead>\n",
       "    <tr style=\"text-align: right;\">\n",
       "      <th></th>\n",
       "      <th>Total Count</th>\n",
       "      <th>Percentage of Players</th>\n",
       "    </tr>\n",
       "  </thead>\n",
       "  <tbody>\n",
       "    <tr>\n",
       "      <th>Male</th>\n",
       "      <td>476</td>\n",
       "      <td>82.64%</td>\n",
       "    </tr>\n",
       "    <tr>\n",
       "      <th>Female</th>\n",
       "      <td>88</td>\n",
       "      <td>15.28%</td>\n",
       "    </tr>\n",
       "    <tr>\n",
       "      <th>Other</th>\n",
       "      <td>12</td>\n",
       "      <td>2.08%</td>\n",
       "    </tr>\n",
       "  </tbody>\n",
       "</table>\n",
       "</div>"
      ],
      "text/plain": [
       "        Total Count Percentage of Players\n",
       "Male            476                82.64%\n",
       "Female           88                15.28%\n",
       "Other            12                 2.08%"
      ]
     },
     "execution_count": 315,
     "metadata": {},
     "output_type": "execute_result"
    }
   ],
   "source": [
    "uniqueUsers_df = pd.DataFrame(purchaseData_df)\n",
    "uniqueUsers_df[\"SN\"] = pd.DataFrame(purchaseData_df[\"SN\"].unique()) #adding null entries for duplicate/repeat players\n",
    "uniqueUsers_df = uniqueUsers_df.dropna(subset=[\"SN\"]) #dropping all null entries for \"SN\" column from data frame\n",
    "\n",
    "uniqueMaleCount = len(uniqueUsers_df.loc[uniqueUsers_df[\"Gender\"] == \"Male\"]) #getting the number of males from the unique users data frame\n",
    "uniqueFemaleCount = len(uniqueUsers_df.loc[uniqueUsers_df[\"Gender\"] == \"Female\"]) #getting the number of females from the unique users data frame\n",
    "uniqueTotalCount = len(uniqueUsers_df[\"Gender\"])\n",
    "uniqueOtherCount = uniqueTotalCount - (uniqueMaleCount + uniqueFemaleCount) #getting the number of other because the value must not be male or female so calculating the difference\n",
    "\n",
    "uniqueMalePercent = (uniqueMaleCount / uniqueTotalCount) * 100\n",
    "uniqueFemalePercent = (uniqueFemaleCount / uniqueTotalCount) * 100\n",
    "uniqueOtherPercent = (uniqueOtherCount / uniqueTotalCount) * 100\n",
    "\n",
    "gender_df = pd.DataFrame(\n",
    "    {\n",
    "    \"Total Count\": [uniqueMaleCount, uniqueFemaleCount, uniqueOtherCount], #populating the data frame columns with the above values\n",
    "    \"Percentage of Players\": [uniqueMalePercent, uniqueFemalePercent, uniqueOtherPercent] \n",
    "    },\n",
    "    index=[\"Male\", \"Female\", \"Other\"] #giving names to the index values\n",
    ")\n",
    "\n",
    "gender_df[\"Percentage of Players\"] = gender_df[\"Percentage of Players\"].astype(float).map(\"{:,.2f}%\".format) #formatting to have a percent sign\n",
    "\n",
    "gender_df"
   ]
  },
  {
   "cell_type": "code",
   "execution_count": 316,
   "metadata": {},
   "outputs": [
    {
     "data": {
      "text/html": [
       "<div>\n",
       "<style scoped>\n",
       "    .dataframe tbody tr th:only-of-type {\n",
       "        vertical-align: middle;\n",
       "    }\n",
       "\n",
       "    .dataframe tbody tr th {\n",
       "        vertical-align: top;\n",
       "    }\n",
       "\n",
       "    .dataframe thead th {\n",
       "        text-align: right;\n",
       "    }\n",
       "</style>\n",
       "<table border=\"1\" class=\"dataframe\">\n",
       "  <thead>\n",
       "    <tr style=\"text-align: right;\">\n",
       "      <th></th>\n",
       "      <th>Purchase Count</th>\n",
       "      <th>Avg Purchase</th>\n",
       "      <th>Total Purchase</th>\n",
       "      <th>Avg Purchase per Person</th>\n",
       "    </tr>\n",
       "  </thead>\n",
       "  <tbody>\n",
       "    <tr>\n",
       "      <th>Male</th>\n",
       "      <td>652</td>\n",
       "      <td>$3.02</td>\n",
       "      <td>$1,967.64</td>\n",
       "      <td>$4.13</td>\n",
       "    </tr>\n",
       "    <tr>\n",
       "      <th>Female</th>\n",
       "      <td>113</td>\n",
       "      <td>$3.20</td>\n",
       "      <td>$361.94</td>\n",
       "      <td>$4.11</td>\n",
       "    </tr>\n",
       "    <tr>\n",
       "      <th>Other</th>\n",
       "      <td>15</td>\n",
       "      <td>$3.35</td>\n",
       "      <td>$50.19</td>\n",
       "      <td>$4.18</td>\n",
       "    </tr>\n",
       "  </tbody>\n",
       "</table>\n",
       "</div>"
      ],
      "text/plain": [
       "        Purchase Count Avg Purchase Total Purchase Avg Purchase per Person\n",
       "Male               652        $3.02      $1,967.64                   $4.13\n",
       "Female             113        $3.20        $361.94                   $4.11\n",
       "Other               15        $3.35         $50.19                   $4.18"
      ]
     },
     "execution_count": 316,
     "metadata": {},
     "output_type": "execute_result"
    }
   ],
   "source": [
    "males_df = purchaseData_df.loc[purchaseData_df[\"Gender\"] == \"Male\"]\n",
    "females_df = purchaseData_df.loc[purchaseData_df[\"Gender\"] == \"Female\"]\n",
    "other_df = purchaseData_df.loc[purchaseData_df[\"Gender\"] == \"Other / Non-Disclosed\"]\n",
    "\n",
    "avgMalePurchasePrice = totalMalePurchases / len(males_df) #total amount spent per gender divided by number of purchases per gender to get average purchase price\n",
    "avgFemalePurchasePrice = totalFemalePurchases / len(females_df) \n",
    "avgOtherPurchasePrice = totalOtherPurchases / len(other_df) \n",
    "\n",
    "totalMalePurchases = sum(males_df[\"Price\"]) #total purchases summed together for all of each gender\n",
    "totalFemalePurchases = sum(females_df[\"Price\"])\n",
    "totalOtherPurchases = sum(other_df[\"Price\"])\n",
    "\n",
    "avgMalePurchasePerPerson = totalMalePurchases / uniqueMaleCount #total amount spent per unique player of each gender divided by number of purchases per gender to get average purchase price\n",
    "avgFemalePurchasePerPerson = totalFemalePurchases / uniqueFemaleCount\n",
    "avgOtherPurchasePerPerson = totalOtherPurchases / uniqueOtherCount\n",
    "\n",
    "genderAnalysis_df = pd.DataFrame(\n",
    "    {\n",
    "    \"Purchase Count\": [len(males_df), len(females_df), len(other_df)], #populating the data frame columns with the above values\n",
    "    \"Avg Purchase\": [avgMalePurchasePrice, avgFemalePurchasePrice, avgOtherPurchasePrice],\n",
    "    \"Total Purchase\": [totalMalePurchases, totalFemalePurchases, totalOtherPurchases],\n",
    "    \"Avg Purchase per Person\": [avgMalePurchasePerPerson, avgFemalePurchasePerPerson, avgOtherPurchasePerPerson]\n",
    "    },\n",
    "    index=[\"Male\", \"Female\", \"Other\"] #giving names to the index values\n",
    ")\n",
    "\n",
    "genderAnalysis_df[\"Avg Purchase\"] = genderAnalysis_df[\"Avg Purchase\"].astype(float).map(\"${:,.2f}\".format) #formatting to have a dollar sign\n",
    "genderAnalysis_df[\"Total Purchase\"] = genderAnalysis_df[\"Total Purchase\"].astype(float).map(\"${:,.2f}\".format)\n",
    "genderAnalysis_df[\"Avg Purchase per Person\"] = genderAnalysis_df[\"Avg Purchase per Person\"].astype(float).map(\"${:,.2f}\".format)\n",
    "\n",
    "genderAnalysis_df"
   ]
  }
 ],
 "metadata": {
  "kernelspec": {
   "display_name": "Python 3",
   "language": "python",
   "name": "python3"
  },
  "language_info": {
   "codemirror_mode": {
    "name": "ipython",
    "version": 3
   },
   "file_extension": ".py",
   "mimetype": "text/x-python",
   "name": "python",
   "nbconvert_exporter": "python",
   "pygments_lexer": "ipython3",
   "version": "3.8.3"
  }
 },
 "nbformat": 4,
 "nbformat_minor": 4
}
