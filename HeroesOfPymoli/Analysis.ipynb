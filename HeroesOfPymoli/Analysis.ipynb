{
 "cells": [
  {
   "cell_type": "code",
   "execution_count": 181,
   "metadata": {},
   "outputs": [
    {
     "data": {
      "text/html": [
       "<div>\n",
       "<style scoped>\n",
       "    .dataframe tbody tr th:only-of-type {\n",
       "        vertical-align: middle;\n",
       "    }\n",
       "\n",
       "    .dataframe tbody tr th {\n",
       "        vertical-align: top;\n",
       "    }\n",
       "\n",
       "    .dataframe thead th {\n",
       "        text-align: right;\n",
       "    }\n",
       "</style>\n",
       "<table border=\"1\" class=\"dataframe\">\n",
       "  <thead>\n",
       "    <tr style=\"text-align: right;\">\n",
       "      <th></th>\n",
       "      <th>Purchase ID</th>\n",
       "      <th>SN</th>\n",
       "      <th>Age</th>\n",
       "      <th>Gender</th>\n",
       "      <th>Item ID</th>\n",
       "      <th>Item Name</th>\n",
       "      <th>Price</th>\n",
       "    </tr>\n",
       "  </thead>\n",
       "  <tbody>\n",
       "    <tr>\n",
       "      <th>0</th>\n",
       "      <td>0</td>\n",
       "      <td>Lisim78</td>\n",
       "      <td>20</td>\n",
       "      <td>Male</td>\n",
       "      <td>108</td>\n",
       "      <td>Extraction, Quickblade Of Trembling Hands</td>\n",
       "      <td>3.53</td>\n",
       "    </tr>\n",
       "    <tr>\n",
       "      <th>1</th>\n",
       "      <td>1</td>\n",
       "      <td>Lisovynya38</td>\n",
       "      <td>40</td>\n",
       "      <td>Male</td>\n",
       "      <td>143</td>\n",
       "      <td>Frenzied Scimitar</td>\n",
       "      <td>1.56</td>\n",
       "    </tr>\n",
       "    <tr>\n",
       "      <th>2</th>\n",
       "      <td>2</td>\n",
       "      <td>Ithergue48</td>\n",
       "      <td>24</td>\n",
       "      <td>Male</td>\n",
       "      <td>92</td>\n",
       "      <td>Final Critic</td>\n",
       "      <td>4.88</td>\n",
       "    </tr>\n",
       "    <tr>\n",
       "      <th>3</th>\n",
       "      <td>3</td>\n",
       "      <td>Chamassasya86</td>\n",
       "      <td>24</td>\n",
       "      <td>Male</td>\n",
       "      <td>100</td>\n",
       "      <td>Blindscythe</td>\n",
       "      <td>3.27</td>\n",
       "    </tr>\n",
       "    <tr>\n",
       "      <th>4</th>\n",
       "      <td>4</td>\n",
       "      <td>Iskosia90</td>\n",
       "      <td>23</td>\n",
       "      <td>Male</td>\n",
       "      <td>131</td>\n",
       "      <td>Fury</td>\n",
       "      <td>1.44</td>\n",
       "    </tr>\n",
       "  </tbody>\n",
       "</table>\n",
       "</div>"
      ],
      "text/plain": [
       "   Purchase ID             SN  Age Gender  Item ID  \\\n",
       "0            0        Lisim78   20   Male      108   \n",
       "1            1    Lisovynya38   40   Male      143   \n",
       "2            2     Ithergue48   24   Male       92   \n",
       "3            3  Chamassasya86   24   Male      100   \n",
       "4            4      Iskosia90   23   Male      131   \n",
       "\n",
       "                                   Item Name  Price  \n",
       "0  Extraction, Quickblade Of Trembling Hands   3.53  \n",
       "1                          Frenzied Scimitar   1.56  \n",
       "2                               Final Critic   4.88  \n",
       "3                                Blindscythe   3.27  \n",
       "4                                       Fury   1.44  "
      ]
     },
     "execution_count": 181,
     "metadata": {},
     "output_type": "execute_result"
    }
   ],
   "source": [
    "import pandas as pd\n",
    "sourceCSV = \"Resources/purchase_data.csv\"\n",
    "purchaseData_df = pd.read_csv(sourceCSV)\n",
    "purchaseData_df.head()"
   ]
  },
  {
   "cell_type": "code",
   "execution_count": 182,
   "metadata": {},
   "outputs": [
    {
     "data": {
      "text/html": [
       "<style  type=\"text/css\" >\n",
       "</style><table id=\"T_67b43ba1_32b6_11eb_9a5c_3448edab3ca1\" ><thead>    <tr>        <th class=\"col_heading level0 col0\" >Total Players</th>    </tr></thead><tbody>\n",
       "                <tr>\n",
       "                                <td id=\"T_67b43ba1_32b6_11eb_9a5c_3448edab3ca1row0_col0\" class=\"data row0 col0\" >576</td>\n",
       "            </tr>\n",
       "    </tbody></table>"
      ],
      "text/plain": [
       "<pandas.io.formats.style.Styler at 0x24f046d7700>"
      ]
     },
     "execution_count": 182,
     "metadata": {},
     "output_type": "execute_result"
    }
   ],
   "source": [
    "playerCount = len(purchaseData_df[\"SN\"].unique()) #counting the number of unique values from this column inside the data frame\n",
    "playerCount_df = pd.DataFrame([playerCount], columns=[\"Total Players\"]) #creating new data frame for displaying count of total unique players\n",
    "playerCount_df.style.hide_index()"
   ]
  },
  {
   "cell_type": "code",
   "execution_count": 183,
   "metadata": {},
   "outputs": [
    {
     "data": {
      "text/html": [
       "<style  type=\"text/css\" >\n",
       "</style><table id=\"T_67b72148_32b6_11eb_9118_3448edab3ca1\" ><thead>    <tr>        <th class=\"col_heading level0 col0\" >Unique Items</th>        <th class=\"col_heading level0 col1\" >Average Price</th>        <th class=\"col_heading level0 col2\" >Number of Purchases</th>        <th class=\"col_heading level0 col3\" >Total Revenue</th>    </tr></thead><tbody>\n",
       "                <tr>\n",
       "                                <td id=\"T_67b72148_32b6_11eb_9118_3448edab3ca1row0_col0\" class=\"data row0 col0\" >179</td>\n",
       "                        <td id=\"T_67b72148_32b6_11eb_9118_3448edab3ca1row0_col1\" class=\"data row0 col1\" >$3.05</td>\n",
       "                        <td id=\"T_67b72148_32b6_11eb_9118_3448edab3ca1row0_col2\" class=\"data row0 col2\" >780</td>\n",
       "                        <td id=\"T_67b72148_32b6_11eb_9118_3448edab3ca1row0_col3\" class=\"data row0 col3\" >$2,379.77</td>\n",
       "            </tr>\n",
       "    </tbody></table>"
      ],
      "text/plain": [
       "<pandas.io.formats.style.Styler at 0x24f049ff550>"
      ]
     },
     "execution_count": 183,
     "metadata": {},
     "output_type": "execute_result"
    }
   ],
   "source": [
    "uniqueItemsCount = len(purchaseData_df[\"Item Name\"].unique()) #getting the number of unique items\n",
    "purchaseCount = len(purchaseData_df[\"Price\"]) #getting the length of the Price column to add up the number of sales\n",
    "totalRevenue = sum(purchaseData_df[\"Price\"]) #adding together the contents of the Price column to get the total revenue\n",
    "avgPrice = totalRevenue / purchaseCount #dividing the total revenue by the number of sales to get the average price per sale\n",
    "\n",
    "totalPurchaseAnalysis_df = pd.DataFrame(#adding column names and values to the data frame as a dictionary of lists \n",
    "    {\n",
    "    \"Unique Items\": [uniqueItemsCount],\n",
    "    \"Average Price\": [avgPrice],\n",
    "    \"Number of Purchases\": [purchaseCount],\n",
    "    \"Total Revenue\": [totalRevenue]\n",
    "    }\n",
    ")\n",
    "totalPurchaseAnalysis_df[\"Average Price\"] = totalPurchaseAnalysis_df[\"Average Price\"].astype(float).map(\"${:,.2f}\".format) #formatting to have a dollar sign\n",
    "totalPurchaseAnalysis_df[\"Total Revenue\"] = totalPurchaseAnalysis_df[\"Total Revenue\"].astype(float).map(\"${:,.2f}\".format) #in front and be two decimal places\n",
    "totalPurchaseAnalysis_df.style.hide_index()"
   ]
  },
  {
   "cell_type": "code",
   "execution_count": 196,
   "metadata": {},
   "outputs": [
    {
     "data": {
      "text/html": [
       "<div>\n",
       "<style scoped>\n",
       "    .dataframe tbody tr th:only-of-type {\n",
       "        vertical-align: middle;\n",
       "    }\n",
       "\n",
       "    .dataframe tbody tr th {\n",
       "        vertical-align: top;\n",
       "    }\n",
       "\n",
       "    .dataframe thead th {\n",
       "        text-align: right;\n",
       "    }\n",
       "</style>\n",
       "<table border=\"1\" class=\"dataframe\">\n",
       "  <thead>\n",
       "    <tr style=\"text-align: right;\">\n",
       "      <th></th>\n",
       "      <th>Total Count</th>\n",
       "      <th>Percentage of Players</th>\n",
       "    </tr>\n",
       "  </thead>\n",
       "  <tbody>\n",
       "    <tr>\n",
       "      <th>Male</th>\n",
       "      <td>652</td>\n",
       "      <td>83.59%</td>\n",
       "    </tr>\n",
       "    <tr>\n",
       "      <th>Female</th>\n",
       "      <td>113</td>\n",
       "      <td>14.49%</td>\n",
       "    </tr>\n",
       "    <tr>\n",
       "      <th>Other</th>\n",
       "      <td>15</td>\n",
       "      <td>1.92%</td>\n",
       "    </tr>\n",
       "  </tbody>\n",
       "</table>\n",
       "</div>"
      ],
      "text/plain": [
       "        Total Count Percentage of Players\n",
       "Male            652                83.59%\n",
       "Female          113                14.49%\n",
       "Other            15                 1.92%"
      ]
     },
     "execution_count": 196,
     "metadata": {},
     "output_type": "execute_result"
    }
   ],
   "source": [
    "maleCount = len(purchaseData_df.loc[purchaseData_df[\"Gender\"] == \"Male\"])\n",
    "femaleCount = len(purchaseData_df.loc[purchaseData_df[\"Gender\"] == \"Female\"])\n",
    "totalCount = len(purchaseData_df[\"Gender\"])\n",
    "otherCount = totalCount - (maleCount + femaleCount) #getting the number of other because the value must not be male or female so calculating the difference\n",
    "\n",
    "malePercent = (maleCount / totalCount) * 100\n",
    "femalePercent = (femaleCount / totalCount) * 100\n",
    "otherPercent = (otherCount / totalCount) * 100\n",
    "\n",
    "gender_df = pd.DataFrame(\n",
    "    {\n",
    "    \"Total Count\": [maleCount, femaleCount, otherCount], #populating the data frame columns with the above values\n",
    "    \"Percentage of Players\": [malePercent, femalePercent, otherPercent] \n",
    "    },\n",
    "    index=[\"Male\", \"Female\", \"Other\"] #giving names to the index values\n",
    ")\n",
    "\n",
    "gender_df[\"Percentage of Players\"] = gender_df[\"Percentage of Players\"].astype(float).map(\"{:,.2f}%\".format) #formatting to have a dollar sign\n",
    "\n",
    "gender_df"
   ]
  }
 ],
 "metadata": {
  "kernelspec": {
   "display_name": "Python 3",
   "language": "python",
   "name": "python3"
  },
  "language_info": {
   "codemirror_mode": {
    "name": "ipython",
    "version": 3
   },
   "file_extension": ".py",
   "mimetype": "text/x-python",
   "name": "python",
   "nbconvert_exporter": "python",
   "pygments_lexer": "ipython3",
   "version": "3.8.3"
  }
 },
 "nbformat": 4,
 "nbformat_minor": 4
}
